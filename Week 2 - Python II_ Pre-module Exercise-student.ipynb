{
 "cells": [
  {
   "cell_type": "markdown",
   "metadata": {
    "id": "zQq_MZqV42aw"
   },
   "source": [
    "# Week 2: Python Fundamentals Continued\n",
    "# Pre-Module\n",
    "Last week, we introduced some basic Python programming concepts, including arithmetic operations, conditional statements, and lists. This week, we will continue learning Python fundamentals, starting with dictionaries."
   ]
  },
  {
   "cell_type": "markdown",
   "metadata": {
    "id": "zqPieno142ax"
   },
   "source": [
    "### Dictionaries\n",
    "\n",
    "What is a dictionary?\n",
    "A <span style=\"background-color: #AFEEEE\">**dictionary**</span> in Python is an unordered collection of data in a key-value pair form, so each entry in this data structure is accompanied by a name. Imagine it like a real dictionary, where the description of a word would be a <span style=\"background-color: #AFEEEE\">**'key'**</span>, and the name of the word itself is the <span style=\"background-color: #AFEEEE\">**'value'**</span>. This analogy is commonly used to access values in the dictionary data structure. You specify the key, like looking up a word in a real physical dictionary.\n",
    "\n",
    "Note: To instantiate a dictionary, please use curly brackets {}.\n",
    "\n",
    "Here's a closer look:"
   ]
  },
  {
   "cell_type": "code",
   "execution_count": null,
   "metadata": {
    "id": "pcn0gWdl42ay"
   },
   "outputs": [],
   "source": [
    "person = {\n",
    "    'first_name': 'John',\n",
    "    'last_name': 'Doe',\n",
    "    'age': 30\n",
    "}"
   ]
  },
  {
   "cell_type": "markdown",
   "metadata": {
    "id": "wGTmR6sF42ay"
   },
   "source": [
    "Above, `first_name`, `last_name`, and `age` are keys. On the other side of the colon are the values. Keys must be unique, meaning you can't have two identical keys in a dictionary. To access a value in the dictionary (`'John'`, `'Doe'`, or `30`), you may refer to it as such:"
   ]
  },
  {
   "cell_type": "code",
   "execution_count": null,
   "metadata": {
    "id": "Ci-8uvUU42az",
    "outputId": "fb225f93-7629-4ee9-8dd6-e0c26f323db7"
   },
   "outputs": [],
   "source": [
    "print(person['first_name'])  # Outputs: John"
   ]
  },
  {
   "cell_type": "markdown",
   "metadata": {
    "id": "RWFWqkoW42az"
   },
   "source": [
    "Here, the value in the square brackets is not the position of our value in the dictionary, but the 'key' that is associated with the value. You can modify or change a value in the dictionary similarly to how you would change a value in a list, following the concept shown above, putting the 'key' within the square brackets, not the position. You can also add values by using a key that does not currently exist in the dictionary."
   ]
  },
  {
   "cell_type": "code",
   "execution_count": null,
   "metadata": {
    "id": "B2mH90a642az",
    "outputId": "702b4671-de0c-4a5a-943b-a37ed6efcc04"
   },
   "outputs": [],
   "source": [
    "# Modifying value\n",
    "person['age'] = 31\n",
    "\n",
    "# Adding a new key-value pair\n",
    "person['city'] = 'New York'\n",
    "\n",
    "print(person)"
   ]
  },
  {
   "cell_type": "markdown",
   "metadata": {
    "id": "HNULOn9P42az"
   },
   "source": [
    "To remove a key-value pair, you may use the `del` keyword and state which key-value pair from which dictionary you wish to delete."
   ]
  },
  {
   "cell_type": "code",
   "execution_count": null,
   "metadata": {
    "id": "WKPmRQtg42az",
    "outputId": "106c976a-e043-4083-e45b-ed5974db3db9"
   },
   "outputs": [],
   "source": [
    "# Removes the key 'age' and its associated value\n",
    "del person['age']\n",
    "\n",
    "print(person)"
   ]
  },
  {
   "cell_type": "markdown",
   "metadata": {
    "id": "zV5EMbL-42az"
   },
   "source": [
    "Another common way dictionaries are used is to map certain values to other values. For example, there are two distinct nomenclatures for identifying genes. In the examples below, the data you will be given will contain Ensembl IDs. As you may know, this way of identifying genes is very structured and ordered; however, it is very nonintuitive for humans. Thus, it would be beneficial for us to translate these IDs to Gene Symbols. There is a dictionary called `sanbomics` that helps us map Ensembl ID maps to Gene Symbol. Let's take a look at it below:"
   ]
  },
  {
   "cell_type": "code",
   "execution_count": null,
   "metadata": {
    "id": "U7Jkmggk42az",
    "outputId": "d7099302-3331-4c0d-92bb-3144e7ee99f7"
   },
   "outputs": [],
   "source": [
    "!pip install -q sanbomics\n",
    "from sanbomics.tools import id_map"
   ]
  },
  {
   "cell_type": "code",
   "execution_count": null,
   "metadata": {
    "id": "jgdCtG6w42a0",
    "outputId": "61844f8a-ceb4-46c9-c04a-ed5bb1b6f45f"
   },
   "outputs": [],
   "source": [
    "human_mapper = id_map(species = 'human')\n",
    "mapping_dict = human_mapper.mapper\n",
    "mapping_dict"
   ]
  },
  {
   "cell_type": "markdown",
   "metadata": {
    "id": "uawxiIyH42a0"
   },
   "source": [
    "---\n",
    "**Q*1. As you can see, each Ensemble ID is the 'key' and the Gene 'symbols' are the values. In the code cell below, see if you can look up the Ensembl ID, `'ENSG00000012048'`, using this dictionary object.**\n",
    "\n",
    "<span style=\"background-color: #FFD700\">**Write your code below**</span> "
   ]
  },
  {
   "cell_type": "code",
   "execution_count": null,
   "metadata": {
    "id": "zFaLB8sN42a0"
   },
   "outputs": [],
   "source": [
    "# Your code here:\n"
   ]
  },
  {
   "cell_type": "markdown",
   "metadata": {
    "id": "0ggxULWD42a0"
   },
   "source": [
    "---\n",
    "**Q*2. As a further exercise, let us assume that we have discovered a new gene, one we are interested in, and the Ensembl ID it was designated is `'ENSG99999999999'`. We will call the gene `'FAKEG1'`. Update the dictionary to add this new gene.**\n",
    "\n",
    "<span style=\"background-color: #FFD700\">**Write your code below**</span> "
   ]
  },
  {
   "cell_type": "code",
   "execution_count": null,
   "metadata": {
    "id": "SAf-f_og42a0"
   },
   "outputs": [],
   "source": [
    "# Your code here:\n"
   ]
  },
  {
   "cell_type": "markdown",
   "metadata": {
    "id": "g6EP6aS742a0"
   },
   "source": [
    "---\n",
    "**Q*3. Finally, before we move on to the main module, try to grab a value from the dictionary with a key that does not exist. What do you think is the expected outcome?**\n",
    "\n",
    "<span style=\"background-color: #FFD700\">**Write your code below**</span> "
   ]
  },
  {
   "cell_type": "code",
   "execution_count": null,
   "metadata": {
    "id": "bJfxt9cG42a0",
    "outputId": "d9908fb1-7546-4fe0-dd98-210ed4a63dfd"
   },
   "outputs": [],
   "source": [
    "# Your code here:\n"
   ]
  },
  {
   "cell_type": "markdown",
   "metadata": {
    "id": "5OJedA1m42a0"
   },
   "source": [
    "---\n",
    "Being able to understand, add, delete, and modify values in a dictionary is important to certain data science procedures and data analysis. Dictionaries inherently store data in the form of key-value pairs, which naturally represent many types of information. For instance, in data analysis, you often have a variable (key) and its corresponding value. Many important pieces of data will be introduced into your workflow through the use of dictionaries."
   ]
  },
  {
   "cell_type": "markdown",
   "metadata": {
    "id": "sI1TlNmgLPGT"
   },
   "source": [
    "## **Graded Exercise: (2 marks)** \n",
    "\n",
    "**GQ*1. (2 marks) Define a new dictionary below with the following keys: `'name'`, `'city'`, `'cuisine'` (1 mark). Set the values of these keys to match those of your favourite restaurant (1 mark).**\n",
    "\n",
    "<span style=\"background-color: #FFD700\">**Write your code below**</span> "
   ]
  },
  {
   "cell_type": "code",
   "execution_count": null,
   "metadata": {
    "id": "EaUJheDmLOJ2"
   },
   "outputs": [],
   "source": [
    "my_favourite_restaurant = ..."
   ]
  }
 ],
 "metadata": {
  "colab": {
   "provenance": []
  },
  "kernelspec": {
   "display_name": "Python 3 (ipykernel)",
   "language": "python",
   "name": "python3"
  },
  "language_info": {
   "codemirror_mode": {
    "name": "ipython",
    "version": 3
   },
   "file_extension": ".py",
   "mimetype": "text/x-python",
   "name": "python",
   "nbconvert_exporter": "python",
   "pygments_lexer": "ipython3",
   "version": "3.11.6"
  }
 },
 "nbformat": 4,
 "nbformat_minor": 4
}
