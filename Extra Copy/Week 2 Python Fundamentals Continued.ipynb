{
 "cells": [
  {
   "attachments": {},
   "cell_type": "markdown",
   "metadata": {},
   "source": [
    "# Week 2: Python Fundamentals Continued 🐍\n",
    "# Tutorial Module\n",
    "\n",
    "Welcome to this week's module, where we will delve further into ways data may be structured and processed. This week we will touch on dictionaries, loops, CSV manipulation, and functions in Python. By the end of this module, you'll be able to structure and manipulate data, automate repetitive tasks, and create reusable code blocks for efficient and fundamental programming. Specically we will be looking at dictionaries, for loops and functions. "
   ]
  },
  {
   "attachments": {},
   "cell_type": "markdown",
   "metadata": {},
   "source": [
    "## Learning objectives\n",
    "By the end of this week, you have proficiency in the following areas\n",
    "- How to read, initiate, and modify a dictionary\n",
    "- Understand how a for loop works, where to apply them, and how to implement them\n",
    "- Learn to identify and reduce redundant code, as well as instantiate functions and call them \n",
    "- Explore a CSV file, and understand its structure and use cases"
   ]
  },
  {
   "attachments": {},
   "cell_type": "markdown",
   "metadata": {},
   "source": [
    "## Premodule Exercises\n",
    "\n",
    "In the premodule exercises, you touched on a new variable/data structure, dictionaries. Dictionaries offer an efficient method for organizing and retrieving data using unique keys. It's essential to note that they are akin to, but distinct from, lists. While lists store values indexed by their positions, dictionaries link values to a unique key, facilitating easy modification and retrieval. They can represent various data types, ranging from extensive text-based datasets like clinical information to mapping specific labels to particular values. In essence, dictionaries are a versatile and prevalent data structure in data science endeavors."
   ]
  },
  {
   "attachments": {},
   "cell_type": "markdown",
   "metadata": {},
   "source": [
    "## Introduction\n",
    "As the module progresses, we will apply our newly learned concepts to our dataset we looked at last week. Here is a review as to how we turned our CSV file into a dataframe. In this example, we used the module **pandas**, which is a sophisticated tool many underlying functions that help with managing datasets. We will learn more about this library next week.\n",
    "\n",
    "**What are Python Modules?**\n",
    "\n",
    "A <span style=\"background-color: #AFEEEE\">**Python module**</span> is essentially a file containing Python code, custom made for very specific purposes, that can include functions, variables and various other snippets of necessary code. Modules, such as **pandas**, are designed to be reusable, allowing programmers to organize and share code efficiently across different projects. By importing a module, users can access its functions and code within their own files, facilitating modularity of code and further reducing redundancy. Think of it as a sticker pack for a messaging platform, or tools in a toolbox. They don't come with Python itself for if we included all of our niche functionalities right of the get go, that would be quite the heavy toolbox where most of the tools would not be used. Instead, we may import our tools into our toolbox to fit our needs in preparation for a task we know we will need to complete.\n",
    "\n",
    "| Function | Input parameters | Output | Syntax |\n",
    "| --- | --- | --- | --- |\n",
    "| read_csv() | *file path* | reads data contained in the CSV file | pd.read_csv('*file path*') |\n"
   ]
  },
  {
   "cell_type": "code",
   "execution_count": null,
   "metadata": {},
   "outputs": [],
   "source": [
    "import pandas as pd\n",
    "df = pd.read_csv('hf_data_raw.csv')\n",
    "df"
   ]
  },
  {
   "attachments": {},
   "cell_type": "markdown",
   "metadata": {},
   "source": [
    "## For loops\n",
    "\n",
    "The understanding of loops is vital to programming. <span style=\"background-color: #AFEEEE\">**For Loops**</span> offer a way to perform repetitive tasks with minimal code. It is is a control structure that's used to execute a block of code repeatedly. Imagine having to print numbers from 1 to 1000 without a loop. That is a lot of typing (or copy and pasting). With loops, such tasks become trivial. \n",
    "\n",
    "But where would such repetition be common? One of the most common applications are for iterating through list and applying certain operations to each of the entries. By the end of this section of the module, we would like to be able to calculate the average of a column/varable within our heart failure dataset itself. This means that we would like to take the sum of the values in a column, platlet levels, for example, and then divide this sum by the number of values in the column intself. By summing the entries, this require us to iterate through the column; hence, we can leverage the characteristic of a for loop to help us acheive this calculation.\n",
    "\n",
    "But first, let's touch on some of the basics.\n",
    "\n",
    "### Simple For Loop Structure:"
   ]
  },
  {
   "cell_type": "code",
   "execution_count": null,
   "metadata": {},
   "outputs": [],
   "source": [
    "colours = ['red', 'blue', 'yellow', 'green', 'purple']\n",
    "for colour in colours:\n",
    "    print(colour)"
   ]
  },
  {
   "cell_type": "markdown",
   "metadata": {},
   "source": [
    "<img src=\"image-2.gif\" alt=\"Drawing\" style=\"width: 600px;\"/>"
   ]
  },
  {
   "attachments": {},
   "cell_type": "markdown",
   "metadata": {},
   "source": [
    "A great aspect of Python code is that it's syntax is usually easily readable, but let's walk through this snippet of code. In English, it essentially means \"We have a list of colours that includes 'red', 'blue', 'yellow', 'green' and purple. For each 'colour' in the list, display the name of that colour.\" \n",
    "\n",
    "The variable '`colour`' here is just a local (temporary) variable instatiated for the sole purpose of counting which iteration the loop is on, it can have any name. While the 'colours' is a sequence or an iterable object (a list, for example) or a number to count to. In this case, the colours list was use as the iterable object.\n",
    "\n",
    "**Q1. Below lets try to make a similar for loop yourself. Let's make a list of the courses that you are taking. Make sure that each entry is a string. Then loop through each 'course' in 'courses' (or you may use any name for 'course'), and print each of the course names.**"
   ]
  },
  {
   "attachments": {},
   "cell_type": "markdown",
   "metadata": {},
   "source": [
    "<span style=\"background-color: #FFD700\">**Write Code Here**</span>"
   ]
  },
  {
   "cell_type": "code",
   "execution_count": null,
   "metadata": {},
   "outputs": [],
   "source": [
    "# Make a list of the courses you are taking\n",
    "\n",
    "# Make a for loop to print each \"course\" in \"courses\""
   ]
  },
  {
   "attachments": {},
   "cell_type": "markdown",
   "metadata": {},
   "source": [
    "### Looping Using Indices\n",
    "\n",
    "However, there is a more common way to iterate through lists. We can also do the same as the previous section by accessing each possible index of the list in order and printing the value of the list at that index:"
   ]
  },
  {
   "cell_type": "code",
   "execution_count": null,
   "metadata": {},
   "outputs": [],
   "source": [
    "for i in range(len(colours)):\n",
    "    print(colours[i])  "
   ]
  },
  {
   "attachments": {},
   "cell_type": "markdown",
   "metadata": {},
   "source": [
    "We can also use the index as a means of producing calculations by itself. Imagine you want the square of each number from 0 to 9. We can complete that in a for loop where we multiple the variable `i` by iteself and print the result each iteration."
   ]
  },
  {
   "cell_type": "code",
   "execution_count": null,
   "metadata": {},
   "outputs": [],
   "source": [
    "for i in range(10):\n",
    "    print(i*i)  "
   ]
  },
  {
   "cell_type": "markdown",
   "metadata": {},
   "source": [
    "<img src=\"image-3.gif\" alt=\"Drawing\" style=\"width: 600px;\"/>"
   ]
  },
  {
   "attachments": {},
   "cell_type": "markdown",
   "metadata": {},
   "source": [
    "When using the local variable as a variable to count, it is common to use the letter ```i``` as the name, but you may use any variable name. \n",
    "\n",
    "This may be the first time you have been introduced to the ```range()``` function. In Python, the ```range()``` function is commonly used in for loops to iterate over a sequence of numbers. It provides a simple way to generate a sequence of numbers, which can be used to repeat the loop a specific number of times. When used in a for loop, ```range()``` allows the code within the loop to execute a certain number of times, with the loop variable taking on each value in the sequence produced by ```range()```. As a side note, ```range()``` is a function, it does not have to be only used within a for loop; however, for most code, you will mostly see it used in for loops. Before we continue, try and think and answer the following question:\n",
    "\n",
    "| Function | Input parameters | Output | Syntax |\n",
    "| --- | --- | --- | --- |\n",
    "| range() | start value, stop value(*Required*), step value | returns a sequence of numbers | range(start, stop, step) |\n",
    "\n",
    "\n",
    "**Q2. When would you choose to loop through by index instead of by each item in a list?**"
   ]
  },
  {
   "attachments": {},
   "cell_type": "markdown",
   "metadata": {},
   "source": [
    "<span style=\"background-color: #FFD700\">**Write Answer here**</span>"
   ]
  },
  {
   "attachments": {},
   "cell_type": "markdown",
   "metadata": {},
   "source": [
    "### Looping Through Dictionaries\n",
    "\n",
    "You can iterate through dictionaries as well. You may access each key-value pair as such:"
   ]
  },
  {
   "cell_type": "code",
   "execution_count": null,
   "metadata": {},
   "outputs": [],
   "source": [
    "person = {\"name\": \"John\", \"age\": 30}\n",
    "for key, value in person.items():\n",
    "    print(key, value)"
   ]
  },
  {
   "attachments": {},
   "cell_type": "markdown",
   "metadata": {},
   "source": [
    "### Calculating Averages Using For Loops\n",
    "\n",
    "What is a practical application of loops in Python? Consider a column of data. How might you determine the sum of all its values? This column can be visualized as a list of values in Python. By iterating through each value, we can accumulate them to get the total sum. Lets refer back to our heart failure dataset and calculate the sum of all platelet levels. Here's an example demonstrating this approach:"
   ]
  },
  {
   "cell_type": "code",
   "execution_count": null,
   "metadata": {},
   "outputs": [],
   "source": [
    "# Extract 'platelets' column as a list\n",
    "platelets_list = df['platelets'].tolist()\n",
    "# First 5 entries\n",
    "platelets_list[:5]"
   ]
  },
  {
   "attachments": {},
   "cell_type": "markdown",
   "metadata": {},
   "source": [
    "It seems that from our intial dataframe, we took the platelets column and stored its values in the list called ```platelets_list```. Now lets use a for loop to calculate the sum of all the values. We will store this a variable called `platelets_sum`."
   ]
  },
  {
   "cell_type": "code",
   "execution_count": null,
   "metadata": {},
   "outputs": [],
   "source": [
    "# Initialize sum to 0\n",
    "platelets_sum = 0\n",
    "\n",
    "# Use a for loop to sum all the values\n",
    "for value in platelets_list:\n",
    "    platelets_sum += value"
   ]
  },
  {
   "attachments": {},
   "cell_type": "markdown",
   "metadata": {},
   "source": [
    "FIrst, a variable named ```platelets_sum``` is created and set to 0. This variable will be used to accumulate or store the sum of the values as we iterate through the list. A for loop is used to iterate over each value in the platelets_list. For each value, it is added to `platelets_sum` using the ```+=``` operator. By the end of the loop, `platelets_sum` contains the total sum of all values in the list. What can we do with this value and why did we calculate it? Well we can divide it by the number of entries in the list to get the average platelet level in the patients."
   ]
  },
  {
   "cell_type": "code",
   "execution_count": null,
   "metadata": {},
   "outputs": [],
   "source": [
    "platelets_avg = platelets_sum/len(platelets_list)\n",
    "\n",
    "print(platelets_avg)"
   ]
  },
  {
   "attachments": {},
   "cell_type": "markdown",
   "metadata": {},
   "source": [
    "So here, in the end we have our average platelets levels for all our observations, which is 262458.91 kiloplatelets/mL. Now with this knowledge, we can easily adapt the procedure to calculate the average of a different column. Let us assume we wanted to know the average percentage of blood leaving the heart as described in our dataset. We would be looking at ejection fraction. \n",
    "\n",
    "**Q3. In the box below, complete the code to use a for loop to calculate the average ejection fraction. Print the average.**\n",
    "\n",
    "<span style=\"background-color: #FFD700\">**Write your code below**</span>"
   ]
  },
  {
   "cell_type": "code",
   "execution_count": null,
   "metadata": {},
   "outputs": [],
   "source": [
    "# Extract 'platelets' column as a list\n",
    "ejection_fraction_list = df['ejection_fraction'].tolist()\n",
    "\n",
    "#TODO: Write your code here\n",
    "\n",
    "# Initialize sum to 0\n",
    "\n",
    "# Use a for loop to sum all the values\n",
    "\n",
    "# Calculate the average from the sum\n"
   ]
  },
  {
   "attachments": {},
   "cell_type": "markdown",
   "metadata": {},
   "source": [
    "## Functions\n",
    "\n",
    "<span style=\"background-color: #AFEEEE\">**Functions**</span> enable us to bundle code into reusable packages, allowing for modularity and reduced redundancy in programming. In Python, a function is a block of code that only runs when it is called. You can pass data to a function, and a function can return data as a result. In fact, you've used functions before. The code snippet, 'print' is a function. Of course, there is underlying code that gets called which displays the prompt. We do not personally have to take time to write out this code. \n",
    "\n",
    "In the previous for loop section, we have provided an example of how to calculate the average of a column in the dataset, specifically the platelets level. After such an example, you were tasked with writing a similar function again, but to perform the same procedure on the ejection fraction column in the dataset. You may have observed how a majority of the code structure is redundant, and feels trivial to implement. By the end of this section on functions, we will show how to reduce this redundancy and avoid code duplication; hence, saving us time in our implementation and improving the readibility of our code."
   ]
  },
  {
   "attachments": {},
   "cell_type": "markdown",
   "metadata": {},
   "source": [
    "So how are functions defined?"
   ]
  },
  {
   "cell_type": "code",
   "execution_count": null,
   "metadata": {},
   "outputs": [],
   "source": [
    "def greet():\n",
    "    return(\"Hello, World!\")\n",
    "\n",
    "hello = greet()\n",
    "print(hello)"
   ]
  },
  {
   "attachments": {},
   "cell_type": "markdown",
   "metadata": {},
   "source": [
    "To define a function, we use the `def` keyword in order to define the function. 'greet' here is the name of the function. The empty brackets are were parameters would go, which for our function, there are none. However, we will return the string \"Hello World\" at the end of our function. In the example above, we then stored this returned value in the variable, `hello` \n",
    "\n",
    "To call a function like you have been doing with print, you specify the name of the function you are calling, and any parameters to be placed in the brackets. What would calling 'greet' do?"
   ]
  },
  {
   "cell_type": "code",
   "execution_count": null,
   "metadata": {},
   "outputs": [],
   "source": [
    "greet()"
   ]
  },
  {
   "attachments": {},
   "cell_type": "markdown",
   "metadata": {},
   "source": [
    "When we run the code cell, we can see that the string is returned, indicated by the quotation marks, different from the first time we used the function where we specifically then passed this string value into the `print` function."
   ]
  },
  {
   "attachments": {},
   "cell_type": "markdown",
   "metadata": {},
   "source": [
    "If we want to allow for some customization as to what ```greet()``` would display every time we call it, we give it a parameter.\n",
    "\n",
    "<span style=\"background-color: #AFEEEE\">**Parameter**</span>: Also sometimes called an argument, a function parameter is a named variable used in the declaration of a function, serving as a placeholder for actual values that will be passed to the function when it is called.\n",
    "\n",
    "In the example below, ```first_name``` is a parameter, and this case, we would like name to be a string. Essentially,  Parameters allow functions to be flexible and general by enabling them to operate on different data depending on the arguments provided during function invocation."
   ]
  },
  {
   "cell_type": "code",
   "execution_count": null,
   "metadata": {},
   "outputs": [],
   "source": [
    "def new_greet(first_name, last_name):\n",
    "    print(f\"Hello, {first_name} {last_name}!\")"
   ]
  },
  {
   "cell_type": "code",
   "execution_count": null,
   "metadata": {},
   "outputs": [],
   "source": [
    "new_greet('John', 'Doe')"
   ]
  },
  {
   "cell_type": "markdown",
   "metadata": {},
   "source": [
    "In essence, function parameters allow for the abstraction of behavior, enabling a single function to operate on a variety of data, perform different tasks, or produce different outcomes based on the arguments passed during its invocation."
   ]
  },
  {
   "attachments": {},
   "cell_type": "markdown",
   "metadata": {},
   "source": [
    "Suppose we want a function to perform a task without displaying any output. In that case, the function should return a variable containing the desired results. Let's consider a practical example with our dataset. Imagine we aim to calculate the averages for various columns. We've already discussed eliminating redundancy by using a for loop to sum all values in a column. However, for multiple columns, repeating a for loop for each one becomes tedious. By utilizing functions, we can further streamline our code. Essentially, we'll encapsulate the simple arithmetic process we learned in Week 1 of summing the values and dividing by the column's entry count into a single function.\n",
    "\n",
    "**Q4. Lets try to generalize the task used before for calculating the average. Write a function to calculate the average of a column given as a list by summing the values and dividing that by the number of entries in the column.**\n",
    "\n",
    "<span style=\"background-color: #FFD700\">**Write your code below**</span>"
   ]
  },
  {
   "cell_type": "code",
   "execution_count": null,
   "metadata": {},
   "outputs": [],
   "source": [
    "# Define the calculate average function \n",
    "def calculate_average(column):    \n",
    "    #TODO: Write your code here\n",
    "    \n",
    "    # Calculate the sum of numbers\n",
    "    \n",
    "    \n",
    "    # Calculate the average by dividing the sum by the length of the list\n",
    "\n",
    "    # Return the average"
   ]
  },
  {
   "cell_type": "markdown",
   "metadata": {},
   "source": [
    "Here, the function calculate_average is defined with a single parameter named column. The parameter is expected to be a list (or an iterable) of numbers. A variable named 'sum' is initialized with the value 0. This variable will be used to accumulate the sum of all numbers in the column. A for loop iterates over each number ('num') in the column. For each iteration, the current number (num) is added to the total. By the end of the loop, total contains the sum of all numbers in the column. The average of the numbers in the column is calculated by dividing the total sum (total) by the number of elements in the column (obtained using len(column)). This result is stored in a variable named average. The calculated average is returned to the caller of the function.\n",
    "\n",
    "Whatever variable or value is placed after the keyword 'return' is what is returned from the function. We can store this value in variable and use it later."
   ]
  },
  {
   "cell_type": "code",
   "execution_count": null,
   "metadata": {},
   "outputs": [],
   "source": [
    "platelets_avg = calculate_average(platelets_list)\n",
    "print(platelets_avg)"
   ]
  },
  {
   "attachments": {},
   "cell_type": "markdown",
   "metadata": {},
   "source": [
    "And now with this function, we can compute the averages for other columns as well. \n",
    "\n",
    "**Q5. Call the same function for the other 2 variables represented as lists in the code cell below.**"
   ]
  },
  {
   "attachments": {},
   "cell_type": "markdown",
   "metadata": {},
   "source": [
    "<span style=\"background-color: #FFD700\">**Write your code below**</span>"
   ]
  },
  {
   "cell_type": "code",
   "execution_count": null,
   "metadata": {},
   "outputs": [],
   "source": [
    "# Extract other features as a list of their values\n",
    "ejection_list = df['ejection_fraction'].tolist()\n",
    "serum_sodium_list = df['serum_sodium'].tolist()\n",
    "\n",
    "#TODO: Write Code Here\n"
   ]
  },
  {
   "attachments": {},
   "cell_type": "markdown",
   "metadata": {},
   "source": [
    "So here we are able to quickly determine the average ejection volume and serum sodium levels. \n",
    "\n",
    "**Q6. Below, let try to combine the techniques we learned this week. Try and write a function to calculate the number of one instance that appears in a list. This function will have two parameters: a list of values we are looking through, and the value we are looking for. This will be usefull if we are looking at the number of one value (e.g. maybe how many patients have diabetes) in our dataset. At the end of your function, return the count. You may use the `diabetes_list` variable to test your function below. Patients with diabetes have an integer value of 1, otherwise they have an integer value of 0. Complete the code cell below.**"
   ]
  },
  {
   "attachments": {},
   "cell_type": "markdown",
   "metadata": {},
   "source": [
    "<span style=\"background-color: #FFD700\">**Write your code below**</span>"
   ]
  },
  {
   "cell_type": "code",
   "execution_count": null,
   "metadata": {},
   "outputs": [],
   "source": [
    "diabetes_list = df['diabetes'].tolist()\n",
    "\n",
    "#TODO: Write Code Below\n",
    "# Define function\n",
    "\n",
    "    # Initiate counter variable at zero\n",
    "\n",
    "    # Iterate through the list using a for loop\n",
    "\n",
    "        # Check if the entry is of value\n",
    "\n",
    "            # Increase the counter by 1\n",
    "\n",
    "    # Return the counter variable after for loop\n",
    "\n",
    "\n"
   ]
  },
  {
   "cell_type": "markdown",
   "metadata": {},
   "source": [
    "## Introduction to CSV files\n",
    "\n",
    "<span style=\"background-color: #AFEEEE\">**Comma Separated Values (CSV)**</span> is a widely accepted data format, one which we are using for our example dataset. CSV files are often used for data storage, data transfer, and data analysis. Reading and writing CSV files in a way that correctly handles field delimiters, line endings, special characters, and varied formatting can be tricky. At its core, a CSV file is just a text file that uses specific structuring to represent tabular data. Think of it like a basic spreadsheet, but instead of being in a proprietary format like Microsoft's .xlsx or Google Sheets' format, it's in a plain-text format that can be read by many software programs. We have already encouter this sort of data as previously, our examples are derived from the CSV file with the assistance of the 'pandas' module.\n",
    "\n",
    "A CSV file's structure is straightforward:\n",
    "\n",
    "- Each line in the file represents a row of the table.\n",
    "- Within each line, values (or cells in our table analogy) are separated by a delimiter, most commonly a comma (hence the name).\n",
    "- The first row often represents headers or column names, but this isn't a strict rule.\n",
    "\n",
    "Example:\n",
    "\n",
    "```\n",
    "Name, Age, Occupation\n",
    "Alice, 28, Engineer\n",
    "Bob, 22, Data Analyst\n",
    "Charlie, 34, Designer\n",
    "```\n",
    "\n",
    "This represents a table with three rows and three columns."
   ]
  },
  {
   "attachments": {},
   "cell_type": "markdown",
   "metadata": {},
   "source": [
    "Of course, before conducting any analysis, a quick visual quality check of the dataset is always warranted. Microsoft Excel is a popular tool for viewing, editing, and creating CSV files. Here's how you can use Excel to open a CSV; we will be using our `hf_data_raw.csv` file to demonstrate:\n",
    "\n",
    "- Open Microsoft Excel.\n",
    "- Go to File > Open and locate the `hf_data_raw.csv` file in this week's (Week 2 Programming Concepts) folder.\n",
    "- Once selected, the file will open in Excel, and you can see the tabular structure.\n",
    "\n",
    "Once our CSV file is opened in Excel, you can treat it like any other spreadsheet. You may edit cells, add rows/columns, apply formulas, etc. However, remember that a csv file is a much simpler file type than xlsx, so sometimes Excel may have trouble formatting its data, and as well changes done in the dataset through Excel may not be properly saved in the csv format. After editing, you can save it as a CSV again by selecting File > Save As and choosing the CSV format and just keep the name as is if you would like to overwrite the previous version.\n",
    "\n",
    "When you open a CSV in Excel and see all the data in the first column, it might be because the CSV uses a different delimiter (like a semicolon or a tab). You can use Excel's \"Text to Columns\" feature in the Data tab to correctly separate the values. Usually, there will be a window that asks you about the formatting of the file when you first open it, make sure you check to see that Excel has the correct values in each cell. Lucky for us, this is not an issue with `hf_data_raw.csv`."
   ]
  },
  {
   "cell_type": "markdown",
   "metadata": {},
   "source": [
    "Below is a snippet of what the \"hf_data_raw.csv\" file should look like when properly loaded into Excel. \n",
    "\n",
    "![Alt text](image.png)\n",
    "\n",
    "Please try opening the file yourself and playing around with it. Try saving your changes as a seperate CSV file. Our file that we have been using is specifically compatible with Microsoft Excel, therefore there should not be too many issues."
   ]
  },
  {
   "attachments": {},
   "cell_type": "markdown",
   "metadata": {},
   "source": [
    "**Q7. Once you feel like you have `hf_data_raw.csv` opened in a readable manner, look through the columns and rows. How many columns (variable/features) are in this dataset, and how many rows (observations)?**"
   ]
  },
  {
   "attachments": {},
   "cell_type": "markdown",
   "metadata": {},
   "source": [
    "\n",
    "<span style=\"background-color: #FFD700\">**Write your answer below**</span>"
   ]
  },
  {
   "attachments": {},
   "cell_type": "markdown",
   "metadata": {},
   "source": [
    "## **Graded Exercise: (7 marks)** "
   ]
  },
  {
   "attachments": {},
   "cell_type": "markdown",
   "metadata": {},
   "source": [
    "GQ1. Write a simple loop function to print if a each entry in `mixed list` is fully numeric or not. If not, print \" _ is not a number\" where the underline is replaced by the variable value. In python, there is a method called `isnumeric()`. An example of its use is shown below. (2 marks)\n",
    "\n",
    "| Function | Input parameters | Output | Syntax |\n",
    "| --- | --- | --- | --- |\n",
    "| isnumeric() | none | A boolean, True if the string only contains numeric values, False otherwise | x.isnumeric() |"
   ]
  },
  {
   "attachments": {},
   "cell_type": "markdown",
   "metadata": {},
   "source": [
    "<span style=\"background-color: #FFD700\">**Write your code below**</span>"
   ]
  },
  {
   "cell_type": "code",
   "execution_count": 3,
   "metadata": {},
   "outputs": [
    {
     "name": "stdout",
     "output_type": "stream",
     "text": [
      "False\n",
      "letter is not a number\n",
      "abc is not a number\n"
     ]
    }
   ],
   "source": [
    "mixed_list = [\"1\", \"1450\", \"201\", \"letter\", \"9\", \"2\", \"abc\"]\n",
    "\n",
    "test = \"a\"\n",
    "print(test.isnumeric())\n",
    "\n",
    "#TODO: Write code here\n"
   ]
  },
  {
   "attachments": {},
   "cell_type": "markdown",
   "metadata": {},
   "source": [
    "GQ2. In the `ejection_fraction` variable in our data, the values are represented as precentages, not fractions/decimals. Suppose we would like to extract these entries and convert them properly into a decimal (e.g. 90 -> 0.9), write a function with a for loop to do so. The variable, `ejection_fraction` is already created for you. You must call your function on this variable. Make your function return a list of decimals and print them. (3 marks)"
   ]
  },
  {
   "attachments": {},
   "cell_type": "markdown",
   "metadata": {},
   "source": [
    "<span style=\"background-color: #FFD700\">**Write your code below**</span>"
   ]
  },
  {
   "cell_type": "code",
   "execution_count": null,
   "metadata": {},
   "outputs": [],
   "source": [
    "# ejection_fraction is our list of percentages\n",
    "ejection_fraction = df[\"ejection_fraction\"]\n",
    "\n",
    "# TODO: Write code here"
   ]
  },
  {
   "attachments": {},
   "cell_type": "markdown",
   "metadata": {},
   "source": [
    "GQ3. Have the CSV file for the heart failure data in excel as instructed earlier. We will answer some questions about the structure and nature of the data (1.5 marks).\n",
    "    \n",
    "    - Are there any non-numeric values in the data?\n",
    "\n",
    "    - What is the `creatinine_phosphokinase` value for the fourth entry in the dataset?\n",
    "\n",
    "    - Look at the `age` column, what is an anomaly about some entries?\n"
   ]
  },
  {
   "attachments": {},
   "cell_type": "markdown",
   "metadata": {},
   "source": [
    "<span style=\"background-color: #FFD700\">**Write your answer below**</span>"
   ]
  },
  {
   "attachments": {},
   "cell_type": "markdown",
   "metadata": {},
   "source": []
  },
  {
   "attachments": {},
   "cell_type": "markdown",
   "metadata": {},
   "source": [
    "GQ4. Make and print a dictionary to represent the different categories in the dataframe to the first observation in the CSV value of the heart failure dataset (1.5 marks)."
   ]
  },
  {
   "attachments": {},
   "cell_type": "markdown",
   "metadata": {},
   "source": [
    "<span style=\"background-color: #FFD700\">**Write your code below**</span>"
   ]
  },
  {
   "cell_type": "code",
   "execution_count": null,
   "metadata": {},
   "outputs": [],
   "source": [
    "#TODO: Write your code here"
   ]
  },
  {
   "attachments": {},
   "cell_type": "markdown",
   "metadata": {},
   "source": [
    "## Conclusion\n",
    "\n",
    "In conclusion, this week's module imparted knowledge on dictionaries, for loops, functions, and the crucial aspect of working with CSV files. By assimilating these concepts, we establish a foundational understanding of data manipulation and processing in Python. To summarize:\n",
    "\n",
    "<span style=\"background-color: #AFEEEE\">**Dictionaries**</span>: These are unordered collections in Python used to store data in key-value pairs. They offer rapid data access based on unique keys. This feature distinguishes them from lists, which are ordered and utilize index-based access. Dictionaries employ curly braces '{}' for creation. Data is accessed via their corresponding keys, and one can easily add or modify key-value pairs using assignment.\n",
    "\n",
    "<span style=\"background-color: #AFEEEE\">**For Loop**</span>: A control structure in Python, the for loop iterates over sequences (like lists, tuples, or strings) or other iterable objects. This enables executing a specific code block multiple times, once per sequence item. The 'range' function, often used with for loops, generates a number sequence and helps keep track of iteration counts.\n",
    "\n",
    "<span style=\"background-color: #AFEEEE\">**Functions**</span>: These are segments of reusable code tailored to execute specific tasks. They can accept parameters and return results. Defined using the 'def' keyword, functions are invoked by their name, accompanied by parentheses. Parameters act as placeholders for values that a function accepts. The real values supplied to these placeholders are termed arguments. To send back results to the function caller, the 'return' keyword is used.\n",
    "\n",
    "<span style=\"background-color: #AFEEEE\">**CSV File Format**</span>: The CSV (Comma-Separated Values) file format is crucial in data handling tasks. It's a simple, plain-text format that represents tabular data, making it universally readable by various software and programming languages. Within a CSV file, data is structured in rows, often with the first row serving as headers. These headers act as identifiers for the data columns, facilitating organized data processing and manipulation. Understanding the structure and characteristics of the CSV format is foundational to effective data management.\n",
    "\n",
    "By mastering these concepts, one steps closer to becoming proficient in data-driven tasks using Python, paving the way for more advanced topics in the future."
   ]
  }
 ],
 "metadata": {
  "kernelspec": {
   "display_name": "base",
   "language": "python",
   "name": "python3"
  },
  "language_info": {
   "codemirror_mode": {
    "name": "ipython",
    "version": 3
   },
   "file_extension": ".py",
   "mimetype": "text/x-python",
   "name": "python",
   "nbconvert_exporter": "python",
   "pygments_lexer": "ipython3",
   "version": "3.9.13"
  },
  "orig_nbformat": 4
 },
 "nbformat": 4,
 "nbformat_minor": 2
}
