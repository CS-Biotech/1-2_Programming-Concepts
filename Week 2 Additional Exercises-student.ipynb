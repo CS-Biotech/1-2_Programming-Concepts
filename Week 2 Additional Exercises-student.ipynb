{
 "cells": [
  {
   "attachments": {},
   "cell_type": "markdown",
   "metadata": {},
   "source": [
    "# Week 2 Python Fundamentals Continued\n",
    "# Additional Exercises\n",
    "\n",
    "Here we are going to look at a <span style=\"background-color: #AFEEEE\">**Dictionary**</span> which is imported into our code from a CSV file. You don't have to memorize the function below, but take some time to familiarize yourself with how it operates. The function relies on Python's 'csv' package/module, which allows for inputting the data to utilize, as well as outputting data ('writing') to a CSV file. Essentially, our dictionary will contain the header of each column in the CSV file as the <span style=\"background-color: #AFEEEE\">**'key'**</span> to the dictionary, and the actual data will be a list stored as the <span style=\"background-color: #AFEEEE\">**'value'**</span>. In this fashion, the dataset can be stored in a simple structure for us to perform transformations or analysis on.\n",
    "\n",
    "<img src=\"image-1.png\" alt=\"Drawing\" style=\"width: 600px;\"/>\n",
    "\n",
    "Returning to our function to bring in comma-separated files, here's a quick breakdown of the provided code if you are interested:\n",
    "\n",
    "- The CSV package is brought in or imported, so that we may use its functions and other premade code.\n",
    "- The csv_to_dict function is defined to facilitate the transformation of a CSV file into a dictionary.\n",
    "- It accepts a single parameter: the path to the CSV file.\n",
    "- Initially, an empty dictionary, data_dict, is established to harbor the data.\n",
    "- Upon opening the CSV file in reading mode, a DictReader object is instantiated. This special object lets us interpret each row of the file as a dictionary.\n",
    "- The dictionary is then prepared by populating it with empty lists corresponding to each header in the CSV. This sets up our storage schema for the dataset.\n",
    "- As the function processes each row of the CSV file, it associates every data value with its corresponding header in the dictionary.\n",
    "- Lastly, the function is exemplified with a file named 'hf_data_raw.csv', demonstrating how it processes and prints the resulting dictionary.\n",
    "\n",
    "We will be using this dataset for the next few questions."
   ]
  },
  {
   "cell_type": "code",
   "execution_count": null,
   "metadata": {},
   "outputs": [],
   "source": [
    "# Importing the csv package for use\n",
    "import csv\n",
    "\n",
    "# Define a function that will convert a CSV file to a dictionary\n",
    "def csv_to_dict(csv_filename):\n",
    "    \"\"\"\n",
    "    Converts the contents of a CSV file into a dictionary.\n",
    "    \n",
    "    Parameters:\n",
    "    - csv_filename: path to the CSV file\n",
    "    \n",
    "    Returns:\n",
    "    - A dictionary where:\n",
    "      * keys are the column headers from the CSV file\n",
    "      * values are lists containing the data for each column\n",
    "    \"\"\"\n",
    "    \n",
    "    # Initialize an empty dictionary to hold our data\n",
    "    data_dict = {}\n",
    "    \n",
    "    # Open the CSV file for reading\n",
    "    with open(csv_filename, 'r') as csvfile:\n",
    "        # Create a DictReader object. This will let us read each row of the CSV file as a dictionary\n",
    "        reader = csv.DictReader(csvfile)\n",
    "        \n",
    "        # For each header in the CSV file, create an empty list in our dictionary \n",
    "        # This initializes storage for each column of data\n",
    "        for header in reader.fieldnames:\n",
    "            data_dict[header] = []\n",
    "        \n",
    "        # Iterate through each row of the CSV\n",
    "        for row in reader:\n",
    "            # For each header-value pair in the row, append the value to the appropriate list in our dictionary\n",
    "            for header, value in row.items():\n",
    "                data_dict[header].append(value)\n",
    "                \n",
    "    # Return the populated dictionary\n",
    "    return data_dict\n",
    "\n",
    "# Example usage:\n",
    "csv_filename = 'hf_data_raw.csv'\n",
    "data_dict = csv_to_dict(csv_filename)\n",
    "print(data_dict)"
   ]
  },
  {
   "cell_type": "markdown",
   "metadata": {},
   "source": [
    "**Q1. From the dictionary, please isolate the entries for the feature 'age' and isolate it in a variable called ```age``` in the code cell below. As well, save the ejection fraction as well in the variable ```ejection fraction```.**"
   ]
  },
  {
   "cell_type": "markdown",
   "metadata": {},
   "source": [
    "<span style=\"background-color: #FFD700\">**Write your code below**</span> "
   ]
  },
  {
   "cell_type": "code",
   "execution_count": null,
   "metadata": {},
   "outputs": [],
   "source": []
  },
  {
   "cell_type": "markdown",
   "metadata": {},
   "source": [
    "Please run the following code to ensure the values within your lists are numeric."
   ]
  },
  {
   "cell_type": "code",
   "execution_count": null,
   "metadata": {},
   "outputs": [],
   "source": [
    "age = [float(a) for a in age]\n",
    "ejection_fraction = [float(a) for a in ejection_fraction]"
   ]
  },
  {
   "cell_type": "markdown",
   "metadata": {},
   "source": [
    "**Q2. Using for loops, find the min and max values of 'age' in the dataset.**\n",
    "\n",
    "<span style=\"background-color: #FFD700\">**Write your code below**</span> \n"
   ]
  },
  {
   "cell_type": "code",
   "execution_count": null,
   "metadata": {},
   "outputs": [],
   "source": [
    "# Calculate the minimum value\n",
    "\n",
    "print(f\"Minimum: {min_value}\")\n",
    "\n",
    "# Calculate the maximum value\n",
    "\n",
    "print(f\"Maximum: {max_value}\")"
   ]
  },
  {
   "attachments": {},
   "cell_type": "markdown",
   "metadata": {},
   "source": [
    "**Q3. Let's compute the proportion of individuals in our dataset that have diabetes. However, the function we make should be able to take any condition (it is a parameter).**\n",
    "\n",
    "<span style=\"background-color: #FFD700\">**Write your code below**</span> \n"
   ]
  },
  {
   "cell_type": "code",
   "execution_count": null,
   "metadata": {},
   "outputs": [],
   "source": [
    "condition = 'diabetes'\n",
    "\n",
    "# TODO: Write your code here\n",
    "\n",
    "\n",
    "print(proportion)"
   ]
  },
  {
   "cell_type": "markdown",
   "metadata": {},
   "source": [
    "**Q4. Imagine a scenario where a physician wishes to know the ejection fraction measurements for individuals aged between 70 and 80. They request that we use a dictionary to map each 'age' entry to its corresponding ejection fraction entry, treating age as the 'key' and the ejection fraction as the 'value', and then share this dictionary with them. Explain why this would not be possible and not appropriate.**\n",
    "\n",
    "<span style=\"background-color: #FFD700\">**Write your answer below**</span>"
   ]
  },
  {
   "cell_type": "markdown",
   "metadata": {},
   "source": [
    "---"
   ]
  },
  {
   "cell_type": "markdown",
   "metadata": {},
   "source": [
    "**Q5. Now, having explained your concerns, you propose to write a function that will print all ejection fraction values that correspond to the age entry that fall under a specified range (inclusive). Please write a function that takes 4 parameters: the list of ages, the list of ejection fractions, the min age, and the max age. The function will print each ejection fraction value on a separate line.**\n",
    "\n",
    "<span style=\"background-color: #FFD700\">**Write your code below**</span> \n"
   ]
  },
  {
   "cell_type": "code",
   "execution_count": null,
   "metadata": {},
   "outputs": [],
   "source": []
  }
 ],
 "metadata": {
  "kernelspec": {
   "display_name": "Python 3 (ipykernel)",
   "language": "python",
   "name": "python3"
  },
  "language_info": {
   "codemirror_mode": {
    "name": "ipython",
    "version": 3
   },
   "file_extension": ".py",
   "mimetype": "text/x-python",
   "name": "python",
   "nbconvert_exporter": "python",
   "pygments_lexer": "ipython3",
   "version": "3.11.6"
  }
 },
 "nbformat": 4,
 "nbformat_minor": 4
}
