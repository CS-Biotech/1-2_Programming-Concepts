{
 "cells": [
  {
   "attachments": {},
   "cell_type": "markdown",
   "metadata": {},
   "source": [
    "# Week 2 Python Fundamentals Continued\n",
    "\n",
    "## Additional Exercises\n",
    "\n",
    "Here we are going to look at a <span style=\"background-color: #AFEEEE\">**Dictionary**</span> which is imported into our code from a CSV file. You don't have to memorize the function below, but take some time to familarize yourself with how it operates. The function relies on Python's 'csv' package/module, which allows for inputting the data to utilize, as well as outputting data ('writing') to a CSV file. Essentially, our dictionary will contain the header of each column in the CSV file as the <span style=\"background-color: #AFEEEE\">**'key'**</span> to the dictionary, and the actual data will be a list stored as the <span style=\"background-color: #AFEEEE\">**'value'**</span>. In this fashion, the dataset can be stored in a simple structure for us to perform transformations or analysis on.\n",
    "\n",
    "<img src=\"image-1.png\" alt=\"Drawing\" style=\"width: 600px;\"/>\n",
    "\n",
    "Returning to our function to bring in comma seperated files, here's a quick breakdown of the provided code if you are interested:\n",
    "\n",
    "- The csv package is brought in or imported, so that we may use its functions and other premade code.\n",
    "- The csv_to_dict function is defined to facilitate the transformation of a CSV file into a dictionary.\n",
    "- It accepts a single parameter: the path to the CSV file.\n",
    "- Initially, an empty dictionary, data_dict, is established to harbor the data.\n",
    "- Upon opening the CSV file in reading mode, a DictReader object is instantiated. This special object lets us interpret each row of the file as a dictionary.\n",
    "- The dictionary is then prepared by populating it with empty lists corresponding to each header in the CSV. This sets up our storage schema for the dataset.\n",
    "- As the function processes each row of the CSV file, it associates every data value with its corresponding header in the dictionary.\n",
    "- Lastly, the function is exemplified with a file named 'hf_data_raw.csv', demonstrating how it processes and prints the resulting dictionary.\n",
    "\n",
    "We will be using this dataset for the next few questions."
   ]
  },
  {
   "cell_type": "code",
   "execution_count": null,
   "metadata": {},
   "outputs": [],
   "source": [
    "# Importing csv package for use\n",
    "import csv\n",
    "\n",
    "# Define a function that will convert a CSV file to a dictionary\n",
    "def csv_to_dict(csv_filename):\n",
    "    \"\"\"\n",
    "    Converts the contents of a CSV file into a dictionary.\n",
    "    \n",
    "    Parameters:\n",
    "    - csv_filename: path to the CSV file\n",
    "    \n",
    "    Returns:\n",
    "    - A dictionary where:\n",
    "      * keys are the column headers from the CSV file\n",
    "      * values are lists containing the data for each column\n",
    "    \"\"\"\n",
    "    \n",
    "    # Initialize an empty dictionary to hold our data\n",
    "    data_dict = {}\n",
    "    \n",
    "    # Open the CSV file for reading\n",
    "    with open(csv_filename, 'r') as csvfile:\n",
    "        # Create a DictReader object. This will let us read each row of the CSV file as a dictionary\n",
    "        reader = csv.DictReader(csvfile)\n",
    "        \n",
    "        # For each header in the CSV file, create an empty list in our dictionary \n",
    "        # This initializes storage for each column of data\n",
    "        for header in reader.fieldnames:\n",
    "            data_dict[header] = []\n",
    "        \n",
    "        # Iterate through each row of the CSV\n",
    "        for row in reader:\n",
    "            # For each header-value pair in the row, append the value to the appropriate list in our dictionary\n",
    "            for header, value in row.items():\n",
    "                data_dict[header].append(value)\n",
    "                \n",
    "    # Return the populated dictionary\n",
    "    return data_dict\n",
    "\n",
    "# Example usage:\n",
    "csv_filename = 'hf_data_raw.csv'\n",
    "data_dict = csv_to_dict(csv_filename)\n",
    "print(data_dict)"
   ]
  },
  {
   "cell_type": "markdown",
   "metadata": {},
   "source": [
    "1. From the dictionary, please isolate the entries for the feature 'age' and isolate it in a variable called ```age``` in the code cell below. As well, save the ejection fraction as well in the variable ```ejection fraction```"
   ]
  },
  {
   "cell_type": "markdown",
   "metadata": {},
   "source": [
    "<span style=\"background-color: #FFD700\">**TODO: Write code here**</span>"
   ]
  },
  {
   "cell_type": "code",
   "execution_count": null,
   "metadata": {},
   "outputs": [],
   "source": []
  },
  {
   "cell_type": "markdown",
   "metadata": {},
   "source": [
    "Please run the following code to ensure the values within your lists are numeric."
   ]
  },
  {
   "cell_type": "code",
   "execution_count": null,
   "metadata": {},
   "outputs": [],
   "source": [
    "age = [float(a) for a in age]\n",
    "ejection_fraction = [float(a) for a in ejection_fraction]"
   ]
  },
  {
   "cell_type": "markdown",
   "metadata": {},
   "source": [
    "2. Using for loops, find the min and max values of 'age' in the dataset."
   ]
  },
  {
   "cell_type": "markdown",
   "metadata": {},
   "source": [
    "<span style=\"background-color: #FFD700\">**TODO: Write code here**</span>"
   ]
  },
  {
   "cell_type": "code",
   "execution_count": null,
   "metadata": {},
   "outputs": [],
   "source": []
  },
  {
   "attachments": {},
   "cell_type": "markdown",
   "metadata": {},
   "source": [
    "3. Lets compute the proportion of individuals in our dataset that have diabetes. However, the function we make should be able to take any condition (it is a parameter)."
   ]
  },
  {
   "cell_type": "markdown",
   "metadata": {},
   "source": [
    "<span style=\"background-color: #FFD700\">**TODO: Write code here**</span>"
   ]
  },
  {
   "cell_type": "code",
   "execution_count": null,
   "metadata": {},
   "outputs": [],
   "source": [
    "condition = 'diabetes'\n",
    "\n",
    "# TODO: Write your code here\n"
   ]
  },
  {
   "cell_type": "markdown",
   "metadata": {},
   "source": [
    "4. Imagine a scenario where a physician wishes to to know the ejection fraction measurements for individuals aged between 70 and 80. They request that we use a dictionary to map each 'age' entry to its corresponding ejection fraction entry, treating age as the 'key' and the ejection fraction as the 'value', and then share this dictionary with them. Explain why this would not be possible and not appropriate."
   ]
  },
  {
   "attachments": {},
   "cell_type": "markdown",
   "metadata": {},
   "source": [
    "<span style=\"background-color: #FFD700\">**TODO: Write answer here**</span>\n",
    "\n",
    "Answer:\n",
    "In Python dictionaries, keys must be unique. This uniqueness ensures that each key can be associated with just one value (or a set of values, but encapsulated as a single entity, such as a list or another dictionary). If keys were allowed to be duplicated, it would introduce ambiguity: when you tried to retrieve a value by its key, the system wouldn't know which of the duplicated keys' values to provide. Using age as the key implies that you believe each age is associated with one specific value for ejection fraction. But, as with many medical metrics, it's quite plausible (and in fact, quite likely) for multiple patients to share the same age. In such a dataset, if two patients were both 45 years old and had different ejection fraction values, using each age entry as the dictionary key would be problematic. The dictionary would not know which ejection fraction value to associate with the age \"45\"."
   ]
  },
  {
   "cell_type": "markdown",
   "metadata": {},
   "source": [
    "5. Now having explained your concerns, you propose to write a function that will print all ejection fraction values which correspond to the age entry that fall under a specified range (inclusive). Please write a function that takes 4 parameters: the list of ages, the list of ejection fractions, the min age, and the max age. The function will print each ejection fraction value on a seperate line."
   ]
  },
  {
   "cell_type": "markdown",
   "metadata": {},
   "source": [
    "<span style=\"background-color: #FFD700\">**TODO: Write code here**</span>"
   ]
  },
  {
   "cell_type": "code",
   "execution_count": null,
   "metadata": {},
   "outputs": [],
   "source": []
  }
 ],
 "metadata": {
  "kernelspec": {
   "display_name": "base",
   "language": "python",
   "name": "python3"
  },
  "language_info": {
   "codemirror_mode": {
    "name": "ipython",
    "version": 3
   },
   "file_extension": ".py",
   "mimetype": "text/x-python",
   "name": "python",
   "nbconvert_exporter": "python",
   "pygments_lexer": "ipython3",
   "version": "3.9.13"
  },
  "orig_nbformat": 4
 },
 "nbformat": 4,
 "nbformat_minor": 2
}
